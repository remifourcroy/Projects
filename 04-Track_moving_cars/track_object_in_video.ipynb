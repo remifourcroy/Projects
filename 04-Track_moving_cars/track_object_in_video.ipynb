{
 "cells": [
  {
   "cell_type": "code",
   "execution_count": 1,
   "metadata": {},
   "outputs": [],
   "source": [
    "import cv2\n",
    "import numpy as np\n",
    "from PIL import Image\n",
    "from matplotlib import pyplot as plt\n",
    "import imageio"
   ]
  },
  {
   "cell_type": "code",
   "execution_count": null,
   "metadata": {},
   "outputs": [],
   "source": [
    "# Initialize video capture and background subtractor\n",
    "capture = cv2.VideoCapture('video4.mp4')\n",
    "back_sub = cv2.createBackgroundSubtractorMOG2()\n",
    "\n",
    "# Minimum contour area threshold\n",
    "min_contour_area = 800\n",
    "\n",
    "# List to store processed frames\n",
    "frames = []\n",
    "\n",
    "# Process the video\n",
    "while capture.isOpened():\n",
    "    ret, frame = capture.read()\n",
    "    if not ret:  # Exit the loop when the video ends\n",
    "        break\n",
    "\n",
    "    # Apply background subtraction\n",
    "    fg_mask = back_sub.apply(frame)\n",
    "\n",
    "    # Threshold the foreground mask\n",
    "    retval, mask_thresh = cv2.threshold(fg_mask, 180, 255, cv2.THRESH_BINARY)\n",
    "    \n",
    "    # Set the kernel and apply morphological erosion\n",
    "    kernel = cv2.getStructuringElement(cv2.MORPH_ELLIPSE, (3, 3))\n",
    "    mask_eroded = cv2.morphologyEx(mask_thresh, cv2.MORPH_OPEN, kernel)\n",
    "\n",
    "    # Find contours in the processed mask\n",
    "    contours, hierarchy = cv2.findContours(mask_eroded, cv2.RETR_EXTERNAL, cv2.CHAIN_APPROX_SIMPLE)\n",
    "    \n",
    "    # Filter contours by area\n",
    "    large_contours = [cnt for cnt in contours if cv2.contourArea(cnt) > min_contour_area]\n",
    "\n",
    "    # Draw bounding rectangles\n",
    "    frame_out = frame.copy()\n",
    "    for cnt in large_contours:\n",
    "        x, y, w, h = cv2.boundingRect(cnt)\n",
    "        frame_out = cv2.rectangle(frame_out, (x, y), (x + w, y + h), (0, 0, 200), 3)  # Bounding box in red\n",
    "\n",
    "    # Resize the frame for display and save it to the list\n",
    "    resized_frame = cv2.resize(frame_out, (640, 360))  # Resize to 640x360\n",
    "    frames.append(cv2.cvtColor(resized_frame, cv2.COLOR_BGR2RGB))  # Convert to RGB for PIL compatibility\n",
    "\n",
    "    # # Display the frame\n",
    "    # cv2.imshow('Frame_final', resized_frame)\n",
    "\n",
    "    # if cv2.waitKey(1) & 0xFF == ord('q'):  # Break the loop on 'q' key press\n",
    "    #     break\n",
    "\n",
    "# Release resources\n",
    "capture.release()\n",
    "cv2.destroyAllWindows()\n",
    "\n",
    "\n"
   ]
  }
 ],
 "metadata": {
  "kernelspec": {
   "display_name": "test",
   "language": "python",
   "name": "python3"
  },
  "language_info": {
   "codemirror_mode": {
    "name": "ipython",
    "version": 3
   },
   "file_extension": ".py",
   "mimetype": "text/x-python",
   "name": "python",
   "nbconvert_exporter": "python",
   "pygments_lexer": "ipython3",
   "version": "3.10.13"
  }
 },
 "nbformat": 4,
 "nbformat_minor": 2
}
